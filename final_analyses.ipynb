{
 "cells": [
  {
   "cell_type": "markdown",
   "metadata": {
    "ExecuteTime": {
     "end_time": "2018-02-08T22:48:54.174807Z",
     "start_time": "2018-02-08T22:48:54.171135Z"
    },
    "extensions": {
     "jupyter_dashboards": {
      "version": 1,
      "views": {
       "grid_default": {
        "col": 0,
        "height": 4,
        "hidden": false,
        "row": 0,
        "width": 4
       },
       "report_default": {
        "hidden": false
       }
      }
     }
    }
   },
   "source": [
    "# Final Noise Analyses and Factorized Likelihood Run"
   ]
  },
  {
   "cell_type": "code",
   "execution_count": 1,
   "metadata": {
    "ExecuteTime": {
     "end_time": "2018-05-16T20:58:44.052338Z",
     "start_time": "2018-05-16T20:58:42.062466Z"
    },
    "extensions": {
     "jupyter_dashboards": {
      "version": 1,
      "views": {
       "grid_default": {
        "hidden": true
       },
       "report_default": {
        "hidden": false
       }
      }
     }
    }
   },
   "outputs": [],
   "source": [
    "%load_ext autoreload\n",
    "%autoreload 2"
   ]
  },
  {
   "cell_type": "code",
   "execution_count": 2,
   "metadata": {
    "ExecuteTime": {
     "end_time": "2018-05-16T20:58:44.052338Z",
     "start_time": "2018-05-16T20:58:42.062466Z"
    },
    "extensions": {
     "jupyter_dashboards": {
      "version": 1,
      "views": {
       "grid_default": {
        "hidden": true
       },
       "report_default": {
        "hidden": false
       }
      }
     }
    }
   },
   "outputs": [],
   "source": [
    "%matplotlib inline\n",
    "import numpy as np\n",
    "import glob, os, sys, json, string, pickle\n",
    "import matplotlib.pyplot as plt\n",
    "import matplotlib as mpl\n",
    "import logging, inspect, copy\n",
    "logging.basicConfig(level=logging.WARNING)"
   ]
  },
  {
   "cell_type": "code",
   "execution_count": 4,
   "metadata": {
    "ExecuteTime": {
     "end_time": "2018-05-16T20:58:44.052338Z",
     "start_time": "2018-05-16T20:58:42.062466Z"
    },
    "extensions": {
     "jupyter_dashboards": {
      "version": 1,
      "views": {
       "grid_default": {
        "hidden": true
       },
       "report_default": {
        "hidden": false
       }
      }
     }
    }
   },
   "outputs": [],
   "source": [
    "import enterprise\n",
    "from enterprise.pulsar import Pulsar\n",
    "\n",
    "current_path = os.getcwd()\n",
    "splt_path = current_path.split(\"/\")\n",
    "#top_path_idx = splt_path.index(\"nanograv\")\n",
    "top_path_idx = splt_path.index(\"akaiser\")\n",
    "#top_path_idx = splt_path.index(\"ark0015\")\n",
    "top_dir = \"/\".join(splt_path[0 : top_path_idx + 1])\n",
    "e_e_path = top_dir + \"/enterprise_extensions/\"\n",
    "sys.path.insert(0, e_e_path)\n",
    "\n",
    "import enterprise_extensions\n",
    "from enterprise_extensions import models, model_utils, blocks\n",
    "from enterprise_extensions.models import model_singlepsr_noise\n",
    "from enterprise_extensions.chromatic import solar_wind, chromatic\n",
    "from enterprise_extensions.hypermodel import HyperModel\n",
    "from enterprise_extensions.sampler import setup_sampler"
   ]
  },
  {
   "cell_type": "markdown",
   "metadata": {
    "extensions": {
     "jupyter_dashboards": {
      "version": 1,
      "views": {
       "grid_default": {
        "col": 4,
        "height": 4,
        "hidden": false,
        "row": 0,
        "width": 4
       },
       "report_default": {
        "hidden": false
       }
      }
     }
    }
   },
   "source": [
    "# Free Spectral Red-noise model selection on 12.5yr Dataset"
   ]
  },
  {
   "cell_type": "markdown",
   "metadata": {},
   "source": [
    "## Load Pickle File "
   ]
  },
  {
   "cell_type": "code",
   "execution_count": 5,
   "metadata": {},
   "outputs": [],
   "source": [
    "psrname = 'B1855+09'#'J1911+1347'\n",
    "filepath = './no_dmx_pickles/'\n",
    "filepath += '{0}_ng12p5yr_v3_nodmx_ePSR.pkl'.format(psrname)\n",
    "with open(filepath,'rb') as fin:\n",
    "    psr=pickle.load(fin)"
   ]
  },
  {
   "cell_type": "markdown",
   "metadata": {},
   "source": [
    "# Testing models with GP DM variations\n",
    "\n",
    "__Very Import:__ What follows is an __example__ of noise model selection. For *most* pulsars the choice of noise models used in any given model selection analysis will be different than the ones chosen here. Those working on pulsars highlighted in the 11-year noise model analysis should include those models in their analyses and also use the best combination of models from that work in any final model selection that is done."
   ]
  },
  {
   "cell_type": "markdown",
   "metadata": {},
   "source": [
    "## Setup GP model selection\n",
    "\n",
    "Load the pulsar's favored model"
   ]
  },
  {
   "cell_type": "code",
   "execution_count": 6,
   "metadata": {
    "ExecuteTime": {
     "end_time": "2018-05-16T17:43:56.600849Z",
     "start_time": "2018-05-16T17:43:56.572218Z"
    }
   },
   "outputs": [],
   "source": [
    "model_kwargs_path = f'./chains/{psrname}/round_8_spectrum_psd_nondiag_chrom_gp_k_periodic_chrom_k_True_chrom_gp_sq_exp_rfband_dm_nondiag_k_free_spectrum_run/model_kwargs.json'\n",
    "\n",
    "with open(model_kwargs_path, 'r') as fin:\n",
    "    model_kwargs = json.load(fin)\n",
    "  "
   ]
  },
  {
   "cell_type": "code",
   "execution_count": 7,
   "metadata": {},
   "outputs": [
    {
     "data": {
      "text/plain": [
       "{'chrom_gp': True,\n",
       " 'chrom_gp_kernel': 'nondiag',\n",
       " 'chrom_idx': 4.0,\n",
       " 'chrom_kernel': 'periodic',\n",
       " 'chrom_psd': 'powerlaw',\n",
       " 'coefficients': False,\n",
       " 'components': 30,\n",
       " 'dm_annual': False,\n",
       " 'dm_cusp': False,\n",
       " 'dm_cusp_idx': 2,\n",
       " 'dm_cusp_seqname': None,\n",
       " 'dm_cusp_sign': 'negative',\n",
       " 'dm_cusp_sym': False,\n",
       " 'dm_cusp_tmax': None,\n",
       " 'dm_cusp_tmin': None,\n",
       " 'dm_dual_cusp': False,\n",
       " 'dm_dual_cusp_idx1': 2,\n",
       " 'dm_dual_cusp_idx2': 4,\n",
       " 'dm_dual_cusp_seqname': None,\n",
       " 'dm_dual_cusp_sign': 'negative',\n",
       " 'dm_dual_cusp_sym': False,\n",
       " 'dm_dual_cusp_tmax': None,\n",
       " 'dm_dual_cusp_tmin': None,\n",
       " 'dm_expdip': False,\n",
       " 'dm_expdip_idx': 2,\n",
       " 'dm_expdip_tmax': None,\n",
       " 'dm_expdip_tmin': None,\n",
       " 'dm_nondiag_kernel': 'sq_exp_rfband',\n",
       " 'dm_psd': 'powerlaw',\n",
       " 'dm_sw_deter': True,\n",
       " 'dm_sw_gp': False,\n",
       " 'dm_type': 'gp',\n",
       " 'dm_var': True,\n",
       " 'dmdip_seqname': None,\n",
       " 'dmexp_sign': 'negative',\n",
       " 'dmgp_kernel': 'nondiag',\n",
       " 'dmjump_var': False,\n",
       " 'dmx_data': None,\n",
       " 'extra_sigs': None,\n",
       " 'fit_remaining_pars': True,\n",
       " 'gamma_dm_val': None,\n",
       " 'gamma_val': None,\n",
       " 'is_wideband': False,\n",
       " 'ltm_list': [],\n",
       " 'noisedict': None,\n",
       " 'num_dm_cusps': 1,\n",
       " 'num_dm_dual_cusps': 1,\n",
       " 'num_dmdips': 1,\n",
       " 'psd': 'spectrum',\n",
       " 'red_select': None,\n",
       " 'red_var': True,\n",
       " 'select': 'backend',\n",
       " 'swgp_basis': 'powerlaw',\n",
       " 'swgp_prior': None,\n",
       " 'tm_linear': False,\n",
       " 'tm_norm': True,\n",
       " 'tm_param_dict': {},\n",
       " 'tm_param_list': [],\n",
       " 'tm_prior': 'uniform',\n",
       " 'tm_svd': False,\n",
       " 'tm_var': False,\n",
       " 'upper_limit': False,\n",
       " 'use_dmdata': False,\n",
       " 'white_vary': True}"
      ]
     },
     "execution_count": 7,
     "metadata": {},
     "output_type": "execute_result"
    }
   ],
   "source": [
    "model_kwargs"
   ]
  },
  {
   "cell_type": "code",
   "execution_count": 8,
   "metadata": {
    "ExecuteTime": {
     "end_time": "2018-05-16T17:43:56.600849Z",
     "start_time": "2018-05-16T17:43:56.572218Z"
    }
   },
   "outputs": [],
   "source": [
    "#Here I'm assumed that the model we want is the third one.\n",
    "fs_kwargs = copy.deepcopy(model_kwargs)\n",
    "fs_kwargs.update({'psd':'spectrum'})"
   ]
  },
  {
   "cell_type": "code",
   "execution_count": 10,
   "metadata": {},
   "outputs": [],
   "source": [
    "pta = model_singlepsr_noise(psr, **fs_kwargs)"
   ]
  },
  {
   "cell_type": "markdown",
   "metadata": {},
   "source": [
    "### NOTE: Should use an empirical distribution made from a prior run of this model!!!"
   ]
  },
  {
   "cell_type": "code",
   "execution_count": null,
   "metadata": {},
   "outputs": [],
   "source": [
    "emp_dist_path = './wn_emp_dists/J1911+1347_ng12p5yr_v3_std_plaw_emp_dist.pkl'"
   ]
  },
  {
   "cell_type": "code",
   "execution_count": 19,
   "metadata": {},
   "outputs": [
    {
     "name": "stdout",
     "output_type": "stream",
     "text": [
      "Adding empirical proposals...\n",
      "\n",
      "Adding red noise prior draws...\n",
      "\n",
      "Adding DM GP noise prior draws...\n",
      "\n"
     ]
    }
   ],
   "source": [
    "sampler = setup_sampler(pta, outdir='/Users/hazboun/nanograv_detection/ent_ext_testing/J1911+1347/free_spec_run/',\n",
    "                        empirical_distr=emp_dist_path)"
   ]
  },
  {
   "cell_type": "code",
   "execution_count": 20,
   "metadata": {
    "ExecuteTime": {
     "end_time": "2018-05-16T17:45:01.931206Z",
     "start_time": "2018-05-16T17:45:01.899033Z"
    }
   },
   "outputs": [],
   "source": [
    "tspan = model_utils.get_tspan([psr])\n",
    "achrom_freqs = np.linspace(1/tspan,30/tspan,30)\n",
    "np.savetxt(sampler.outDir + 'achrom_rn_freqs.txt', achrom_freqs, fmt='%.18e')"
   ]
  },
  {
   "cell_type": "code",
   "execution_count": 21,
   "metadata": {},
   "outputs": [],
   "source": [
    "with open(sampler.outDir+'/model_kwargs.json' , 'w') as fout:\n",
    "    json.dump(fs_kwargs, fout, sort_keys=True,\n",
    "              indent=4, separators=(',', ': '))"
   ]
  },
  {
   "cell_type": "code",
   "execution_count": 11,
   "metadata": {
    "ExecuteTime": {
     "end_time": "2018-05-16T17:45:01.931206Z",
     "start_time": "2018-05-16T17:45:01.899033Z"
    }
   },
   "outputs": [],
   "source": [
    "N = 500_000\n",
    "x0 = np.hstack(p.sample() for p in pta_crn.params)\n",
    "Sampler.sample(x0, , SCAMweight=30, AMweight=15,\n",
    "               DEweight=30, burn=10000)"
   ]
  },
  {
   "cell_type": "markdown",
   "metadata": {},
   "source": [
    "## Factorized Likelihood Run "
   ]
  },
  {
   "cell_type": "markdown",
   "metadata": {},
   "source": [
    "Here we substitute in the kwargs needed for a factorized likelihood analysis. Notice that the time span used here is the time span of the full data set. This ensures that the frequencies used in the red noise model and the \"GWB\" model are the same. The number of components is set to 5 to replicate the factorized likelihood runs from the 12.5 year analysis. "
   ]
  },
  {
   "cell_type": "code",
   "execution_count": 14,
   "metadata": {},
   "outputs": [
    {
     "name": "stdout",
     "output_type": "stream",
     "text": [
      "12.915331060702131  yrs\n"
     ]
    }
   ],
   "source": [
    "fLike_kwargs = copy.deepcopy(model_kwargs['3'])\n",
    "Tspan = 407576851.48121357\n",
    "print(Tspan/(365.25*24*3600),' yrs')\n",
    "fLike_kwargs.update({'factorized_like':True,\n",
    "                     'Tspan':Tspan,\n",
    "                     'fact_like_gamma':13./3,\n",
    "                     'gw_components':5})"
   ]
  },
  {
   "cell_type": "code",
   "execution_count": 15,
   "metadata": {},
   "outputs": [],
   "source": [
    "pta_fL = model_singlepsr_noise(psr, **fLike_kwargs)"
   ]
  },
  {
   "cell_type": "code",
   "execution_count": 22,
   "metadata": {},
   "outputs": [
    {
     "name": "stdout",
     "output_type": "stream",
     "text": [
      "Adding empirical proposals...\n",
      "\n",
      "Adding red noise prior draws...\n",
      "\n",
      "Adding DM GP noise prior draws...\n",
      "\n"
     ]
    }
   ],
   "source": [
    "sampler = setup_sampler(pta, \n",
    "                        outdir='/Users/hazboun/nanograv_detection/ent_ext_testing/J1911+1347/factorized_likelihood/',\n",
    "                        empirical_distr=emp_dist_path)"
   ]
  },
  {
   "cell_type": "code",
   "execution_count": 23,
   "metadata": {},
   "outputs": [],
   "source": [
    "achrom_freqs_fL = np.linspace(1/Tspan,10/Tspan,10)\n",
    "np.savetxt(sampler.outDir + 'achrom_rn_freqs.txt', achrom_freqs_fL, fmt='%.18e')"
   ]
  },
  {
   "cell_type": "code",
   "execution_count": 24,
   "metadata": {},
   "outputs": [],
   "source": [
    "with open(sampler.outDir+'/model_kwargs.json' , 'w') as fout:\n",
    "    json.dump(fLike_kwargs, fout, sort_keys=True,\n",
    "              indent=4, separators=(',', ': '))"
   ]
  },
  {
   "cell_type": "code",
   "execution_count": null,
   "metadata": {},
   "outputs": [],
   "source": [
    "N = 1_000_000\n",
    "x0 = np.hstack(p.sample() for p in pta_crn.params)\n",
    "Sampler.sample(x0, , SCAMweight=30, AMweight=15,\n",
    "               DEweight=30, burn=10000)"
   ]
  }
 ],
 "metadata": {
  "extensions": {
   "jupyter_dashboards": {
    "activeView": "report_default",
    "version": 1,
    "views": {
     "grid_default": {
      "cellMargin": 10,
      "defaultCellHeight": 20,
      "maxColumns": 12,
      "name": "grid",
      "type": "grid"
     },
     "report_default": {
      "name": "report",
      "type": "report"
     }
    }
   }
  },
  "kernelspec": {
   "display_name": "Python 3",
   "language": "python",
   "name": "python3"
  },
  "language_info": {
   "codemirror_mode": {
    "name": "ipython",
    "version": 3
   },
   "file_extension": ".py",
   "mimetype": "text/x-python",
   "name": "python",
   "nbconvert_exporter": "python",
   "pygments_lexer": "ipython3",
   "version": "3.8.3"
  },
  "toc": {
   "nav_menu": {},
   "number_sections": true,
   "sideBar": true,
   "skip_h1_title": false,
   "toc_cell": false,
   "toc_position": {
    "height": "743px",
    "left": "0px",
    "right": "1228px",
    "top": "107px",
    "width": "212px"
   },
   "toc_section_display": "block",
   "toc_window_display": true
  }
 },
 "nbformat": 4,
 "nbformat_minor": 2
}
