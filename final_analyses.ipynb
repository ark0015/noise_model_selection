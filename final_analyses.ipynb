{
 "cells": [
  {
   "cell_type": "markdown",
   "metadata": {
    "ExecuteTime": {
     "end_time": "2018-02-08T22:48:54.174807Z",
     "start_time": "2018-02-08T22:48:54.171135Z"
    },
    "extensions": {
     "jupyter_dashboards": {
      "version": 1,
      "views": {
       "grid_default": {
        "col": 0,
        "height": 4,
        "hidden": false,
        "row": 0,
        "width": 4
       },
       "report_default": {
        "hidden": false
       }
      }
     }
    }
   },
   "source": [
    "# Final Noise Analyses and Factorized Likelihood Run"
   ]
  },
  {
   "cell_type": "code",
   "execution_count": 1,
   "metadata": {
    "ExecuteTime": {
     "end_time": "2018-05-16T20:58:44.052338Z",
     "start_time": "2018-05-16T20:58:42.062466Z"
    },
    "extensions": {
     "jupyter_dashboards": {
      "version": 1,
      "views": {
       "grid_default": {
        "hidden": true
       },
       "report_default": {
        "hidden": false
       }
      }
     }
    }
   },
   "outputs": [],
   "source": [
    "%load_ext autoreload\n",
    "%autoreload 2"
   ]
  },
  {
   "cell_type": "code",
   "execution_count": 2,
   "metadata": {
    "ExecuteTime": {
     "end_time": "2018-05-16T20:58:44.052338Z",
     "start_time": "2018-05-16T20:58:42.062466Z"
    },
    "extensions": {
     "jupyter_dashboards": {
      "version": 1,
      "views": {
       "grid_default": {
        "hidden": true
       },
       "report_default": {
        "hidden": false
       }
      }
     }
    }
   },
   "outputs": [],
   "source": [
    "%matplotlib inline\n",
    "import numpy as np\n",
    "import glob, os, json, string, pickle\n",
    "import matplotlib.pyplot as plt\n",
    "import matplotlib as mpl\n",
    "import logging, inspect, copy\n",
    "logging.basicConfig(level=logging.WARNING)"
   ]
  },
  {
   "cell_type": "code",
   "execution_count": 3,
   "metadata": {
    "ExecuteTime": {
     "end_time": "2018-05-16T20:58:44.052338Z",
     "start_time": "2018-05-16T20:58:42.062466Z"
    },
    "extensions": {
     "jupyter_dashboards": {
      "version": 1,
      "views": {
       "grid_default": {
        "hidden": true
       },
       "report_default": {
        "hidden": false
       }
      }
     }
    }
   },
   "outputs": [
    {
     "name": "stdout",
     "output_type": "stream",
     "text": [
      "You'll need sksparse for get_coefficients() with common signals!\n"
     ]
    },
    {
     "name": "stderr",
     "output_type": "stream",
     "text": [
      "WARNING:enterprise.signals.signal_base:No sksparse library. Using scipy instead!\n"
     ]
    }
   ],
   "source": [
    "import enterprise\n",
    "from enterprise.pulsar import Pulsar\n",
    "\n",
    "import enterprise_extensions\n",
    "from enterprise_extensions import models, model_utils, blocks\n",
    "from enterprise_extensions.models import model_singlepsr_noise\n",
    "from enterprise_extensions.chromatic import solar_wind, chromatic\n",
    "from enterprise_extensions.hypermodel import HyperModel\n",
    "from enterprise_extensions.sampler import setup_sampler"
   ]
  },
  {
   "cell_type": "markdown",
   "metadata": {
    "extensions": {
     "jupyter_dashboards": {
      "version": 1,
      "views": {
       "grid_default": {
        "col": 4,
        "height": 4,
        "hidden": false,
        "row": 0,
        "width": 4
       },
       "report_default": {
        "hidden": false
       }
      }
     }
    }
   },
   "source": [
    "# Free Spectral Red-noise model selection on 12.5yr Dataset"
   ]
  },
  {
   "cell_type": "markdown",
   "metadata": {},
   "source": [
    "## Load Pickle File "
   ]
  },
  {
   "cell_type": "code",
   "execution_count": 4,
   "metadata": {},
   "outputs": [],
   "source": [
    "psrname = 'J1911+1347'\n",
    "filepath = './no_dmx_pickles/'\n",
    "filepath += '{0}_ng12p5yr_v3_nodmx_ePSR.pkl'.format(psrname)\n",
    "with open(filepath,'rb') as fin:\n",
    "    psr=pickle.load(fin)"
   ]
  },
  {
   "cell_type": "markdown",
   "metadata": {},
   "source": [
    "# Testing models with GP DM variations\n",
    "\n",
    "__Very Import:__ What follows is an __example__ of noise model selection. For *most* pulsars the choice of noise models used in any given model selection analysis will be different than the ones chosen here. Those working on pulsars highlighted in the 11-year noise model analysis should include those models in their analyses and also use the best combination of models from that work in any final model selection that is done."
   ]
  },
  {
   "cell_type": "markdown",
   "metadata": {},
   "source": [
    "## Setup GP model selection\n",
    "\n",
    "Load the pulsar's favored model"
   ]
  },
  {
   "cell_type": "code",
   "execution_count": 8,
   "metadata": {
    "ExecuteTime": {
     "end_time": "2018-05-16T17:43:56.600849Z",
     "start_time": "2018-05-16T17:43:56.572218Z"
    }
   },
   "outputs": [],
   "source": [
    "model_kwargs_path = '/Users/hazboun/nanograv_detection/ent_ext_testing/J1911+1347/nondiag_dmgp/model_kwargs.json'\n",
    "with open(model_kwargs_path, 'r') as fin:\n",
    "    model_kwargs = json.load(fin)\n",
    "  "
   ]
  },
  {
   "cell_type": "code",
   "execution_count": 9,
   "metadata": {
    "ExecuteTime": {
     "end_time": "2018-05-16T17:43:56.600849Z",
     "start_time": "2018-05-16T17:43:56.572218Z"
    }
   },
   "outputs": [],
   "source": [
    "#Here I'm assumed that the model we want is the third one.\n",
    "fs_kwargs = copy.deepcopy(model_kwargs['3'])\n",
    "fs_kwargs.update({'psd':'spectrum'})"
   ]
  },
  {
   "cell_type": "code",
   "execution_count": 10,
   "metadata": {},
   "outputs": [],
   "source": [
    "pta = model_singlepsr_noise(psr, **fs_kwargs)"
   ]
  },
  {
   "cell_type": "markdown",
   "metadata": {},
   "source": [
    "### NOTE: Should use an empirical distribution made from a prior run of this model!!!"
   ]
  },
  {
   "cell_type": "code",
   "execution_count": null,
   "metadata": {},
   "outputs": [],
   "source": [
    "emp_dist_path = './wn_emp_dists/J1911+1347_ng12p5yr_v3_std_plaw_emp_dist.pkl'"
   ]
  },
  {
   "cell_type": "code",
   "execution_count": 19,
   "metadata": {},
   "outputs": [
    {
     "name": "stdout",
     "output_type": "stream",
     "text": [
      "Adding empirical proposals...\n",
      "\n",
      "Adding red noise prior draws...\n",
      "\n",
      "Adding DM GP noise prior draws...\n",
      "\n"
     ]
    }
   ],
   "source": [
    "sampler = setup_sampler(pta, outdir='/Users/hazboun/nanograv_detection/ent_ext_testing/J1911+1347/free_spec_run/',\n",
    "                        empirical_distr=emp_dist_path)"
   ]
  },
  {
   "cell_type": "code",
   "execution_count": 20,
   "metadata": {
    "ExecuteTime": {
     "end_time": "2018-05-16T17:45:01.931206Z",
     "start_time": "2018-05-16T17:45:01.899033Z"
    }
   },
   "outputs": [],
   "source": [
    "tspan = model_utils.get_tspan([psr])\n",
    "achrom_freqs = np.linspace(1/tspan,30/tspan,30)\n",
    "np.savetxt(sampler.outDir + 'achrom_rn_freqs.txt', achrom_freqs, fmt='%.18e')"
   ]
  },
  {
   "cell_type": "code",
   "execution_count": 21,
   "metadata": {},
   "outputs": [],
   "source": [
    "with open(sampler.outDir+'/model_kwargs.json' , 'w') as fout:\n",
    "    json.dump(fs_kwargs, fout, sort_keys=True,\n",
    "              indent=4, separators=(',', ': '))"
   ]
  },
  {
   "cell_type": "code",
   "execution_count": 11,
   "metadata": {
    "ExecuteTime": {
     "end_time": "2018-05-16T17:45:01.931206Z",
     "start_time": "2018-05-16T17:45:01.899033Z"
    }
   },
   "outputs": [],
   "source": [
    "N = 500_000\n",
    "x0 = np.hstack(p.sample() for p in pta_crn.params)\n",
    "Sampler.sample(x0, , SCAMweight=30, AMweight=15,\n",
    "               DEweight=30, burn=10000)"
   ]
  },
  {
   "cell_type": "markdown",
   "metadata": {},
   "source": [
    "## Factorized Likelihood Run "
   ]
  },
  {
   "cell_type": "markdown",
   "metadata": {},
   "source": [
    "Here we substitute in the kwargs needed for a factorized likelihood analysis. Notice that the time span used here is the time span of the full data set. This ensures that the frequencies used in the red noise model and the \"GWB\" model are the same. The number of components is set to 5 to replicate the factorized likelihood runs from the 12.5 year analysis. "
   ]
  },
  {
   "cell_type": "code",
   "execution_count": 14,
   "metadata": {},
   "outputs": [
    {
     "name": "stdout",
     "output_type": "stream",
     "text": [
      "12.915331060702131  yrs\n"
     ]
    }
   ],
   "source": [
    "fLike_kwargs = copy.deepcopy(model_kwargs['3'])\n",
    "Tspan = 407576851.48121357\n",
    "print(Tspan/(365.25*24*3600),' yrs')\n",
    "fLike_kwargs.update({'factorized_like':True,\n",
    "                     'Tspan':Tspan,\n",
    "                     'fact_like_gamma':13./3,\n",
    "                     'gw_components':5})"
   ]
  },
  {
   "cell_type": "code",
   "execution_count": 15,
   "metadata": {},
   "outputs": [],
   "source": [
    "pta_fL = model_singlepsr_noise(psr, **fLike_kwargs)"
   ]
  },
  {
   "cell_type": "code",
   "execution_count": 22,
   "metadata": {},
   "outputs": [
    {
     "name": "stdout",
     "output_type": "stream",
     "text": [
      "Adding empirical proposals...\n",
      "\n",
      "Adding red noise prior draws...\n",
      "\n",
      "Adding DM GP noise prior draws...\n",
      "\n"
     ]
    }
   ],
   "source": [
    "sampler = setup_sampler(pta, \n",
    "                        outdir='/Users/hazboun/nanograv_detection/ent_ext_testing/J1911+1347/factorized_likelihood/',\n",
    "                        empirical_distr=emp_dist_path)"
   ]
  },
  {
   "cell_type": "code",
   "execution_count": 23,
   "metadata": {},
   "outputs": [],
   "source": [
    "achrom_freqs_fL = np.linspace(1/Tspan,10/Tspan,10)\n",
    "np.savetxt(sampler.outDir + 'achrom_rn_freqs.txt', achrom_freqs_fL, fmt='%.18e')"
   ]
  },
  {
   "cell_type": "code",
   "execution_count": 24,
   "metadata": {},
   "outputs": [],
   "source": [
    "with open(sampler.outDir+'/model_kwargs.json' , 'w') as fout:\n",
    "    json.dump(fLike_kwargs, fout, sort_keys=True,\n",
    "              indent=4, separators=(',', ': '))"
   ]
  },
  {
   "cell_type": "code",
   "execution_count": null,
   "metadata": {},
   "outputs": [],
   "source": [
    "N = 1_000_000\n",
    "x0 = np.hstack(p.sample() for p in pta_crn.params)\n",
    "Sampler.sample(x0, , SCAMweight=30, AMweight=15,\n",
    "               DEweight=30, burn=10000)"
   ]
  }
 ],
 "metadata": {
  "extensions": {
   "jupyter_dashboards": {
    "activeView": "report_default",
    "version": 1,
    "views": {
     "grid_default": {
      "cellMargin": 10,
      "defaultCellHeight": 20,
      "maxColumns": 12,
      "name": "grid",
      "type": "grid"
     },
     "report_default": {
      "name": "report",
      "type": "report"
     }
    }
   }
  },
  "kernelspec": {
   "display_name": "Python (enterprise dev)",
   "language": "python",
   "name": "enterprise_dev"
  },
  "language_info": {
   "codemirror_mode": {
    "name": "ipython",
    "version": 3
   },
   "file_extension": ".py",
   "mimetype": "text/x-python",
   "name": "python",
   "nbconvert_exporter": "python",
   "pygments_lexer": "ipython3",
   "version": "3.6.12"
  },
  "toc": {
   "nav_menu": {},
   "number_sections": true,
   "sideBar": true,
   "skip_h1_title": false,
   "toc_cell": false,
   "toc_position": {
    "height": "743px",
    "left": "0px",
    "right": "1228px",
    "top": "107px",
    "width": "212px"
   },
   "toc_section_display": "block",
   "toc_window_display": true
  }
 },
 "nbformat": 4,
 "nbformat_minor": 2
}
