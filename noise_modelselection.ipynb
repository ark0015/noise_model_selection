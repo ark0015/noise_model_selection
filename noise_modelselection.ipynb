{
 "cells": [
  {
   "cell_type": "markdown",
   "metadata": {
    "ExecuteTime": {
     "end_time": "2018-02-08T22:48:54.174807Z",
     "start_time": "2018-02-08T22:48:54.171135Z"
    },
    "extensions": {
     "jupyter_dashboards": {
      "version": 1,
      "views": {
       "grid_default": {
        "col": 0,
        "height": 4,
        "hidden": false,
        "row": 0,
        "width": 4
       },
       "report_default": {
        "hidden": false
       }
      }
     }
    }
   },
   "source": [
    "# Noise model selection on NANOGrav pulsars"
   ]
  },
  {
   "cell_type": "code",
   "execution_count": 1,
   "metadata": {
    "ExecuteTime": {
     "end_time": "2018-05-16T20:58:44.052338Z",
     "start_time": "2018-05-16T20:58:42.062466Z"
    },
    "extensions": {
     "jupyter_dashboards": {
      "version": 1,
      "views": {
       "grid_default": {
        "hidden": true
       },
       "report_default": {
        "hidden": false
       }
      }
     }
    }
   },
   "outputs": [],
   "source": [
    "%load_ext autoreload\n",
    "%autoreload 2"
   ]
  },
  {
   "cell_type": "code",
   "execution_count": 2,
   "metadata": {
    "ExecuteTime": {
     "end_time": "2018-05-16T20:58:44.052338Z",
     "start_time": "2018-05-16T20:58:42.062466Z"
    },
    "extensions": {
     "jupyter_dashboards": {
      "version": 1,
      "views": {
       "grid_default": {
        "hidden": true
       },
       "report_default": {
        "hidden": false
       }
      }
     }
    }
   },
   "outputs": [],
   "source": [
    "%matplotlib inline\n",
    "import numpy as np\n",
    "import glob, os, json, string, pickle\n",
    "import matplotlib.pyplot as plt\n",
    "import matplotlib as mpl\n",
    "import logging, inspect, copy\n",
    "logging.basicConfig(level=logging.WARNING)"
   ]
  },
  {
   "cell_type": "code",
   "execution_count": 3,
   "metadata": {
    "ExecuteTime": {
     "end_time": "2018-05-16T20:58:44.052338Z",
     "start_time": "2018-05-16T20:58:42.062466Z"
    },
    "extensions": {
     "jupyter_dashboards": {
      "version": 1,
      "views": {
       "grid_default": {
        "hidden": true
       },
       "report_default": {
        "hidden": false
       }
      }
     }
    }
   },
   "outputs": [
    {
     "name": "stdout",
     "output_type": "stream",
     "text": [
      "You'll need sksparse for get_coefficients() with common signals!\n"
     ]
    },
    {
     "name": "stderr",
     "output_type": "stream",
     "text": [
      "WARNING:enterprise.signals.signal_base:No sksparse library. Using scipy instead!\n"
     ]
    }
   ],
   "source": [
    "import enterprise\n",
    "from enterprise.pulsar import Pulsar\n",
    "\n",
    "import enterprise_extensions\n",
    "from enterprise_extensions import models, model_utils, blocks\n",
    "from enterprise_extensions.models import model_singlepsr_noise\n",
    "from enterprise_extensions.chromatic import solar_wind, chromatic\n",
    "from enterprise_extensions.hypermodel import HyperModel"
   ]
  },
  {
   "cell_type": "markdown",
   "metadata": {
    "extensions": {
     "jupyter_dashboards": {
      "version": 1,
      "views": {
       "grid_default": {
        "col": 4,
        "height": 4,
        "hidden": false,
        "row": 0,
        "width": 4
       },
       "report_default": {
        "hidden": false
       }
      }
     }
    }
   },
   "source": [
    "# Red-noise model selection on 12.5yr Dataset"
   ]
  },
  {
   "cell_type": "markdown",
   "metadata": {
    "extensions": {
     "jupyter_dashboards": {
      "version": 1,
      "views": {
       "grid_default": {
        "col": 8,
        "height": 4,
        "hidden": false,
        "row": 0,
        "width": 4
       },
       "report_default": {
        "hidden": false
       }
      }
     }
    }
   },
   "source": [
    "## Get par, tim, and noise files"
   ]
  },
  {
   "cell_type": "code",
   "execution_count": null,
   "metadata": {
    "ExecuteTime": {
     "end_time": "2018-05-16T20:59:06.822343Z",
     "start_time": "2018-05-16T20:59:06.776948Z"
    },
    "extensions": {
     "jupyter_dashboards": {
      "version": 1,
      "views": {
       "grid_default": {
        "hidden": true
       },
       "report_default": {
        "hidden": true
       }
      }
     }
    }
   },
   "outputs": [],
   "source": [
    "# psr = Pulsar('./partim_no_noise/J0613-0200_NANOGrav_11yv0.gls.strip.par',\n",
    "#              './partim_no_noise/J0613-0200_NANOGrav_11yv0.tim',\n",
    "#               ephem='DE436')\n",
    "\n",
    "# noisefiles = sorted(glob.glob('../11yr_stochastic_analysis/nano11y_data/noisefiles/*.json'))\n",
    "\n",
    "# params = {}\n",
    "# for noisefil in noisefiles:\n",
    "#     with open(noisefil, 'r') as fp:\n",
    "#         params.update(json.load(fp))"
   ]
  },
  {
   "cell_type": "markdown",
   "metadata": {},
   "source": [
    "## Load Pickle File "
   ]
  },
  {
   "cell_type": "code",
   "execution_count": null,
   "metadata": {},
   "outputs": [],
   "source": [
    "psrname = 'B1855+09'#'J1911+1347'\n",
    "filepath = './no_dmx_pickles/'\n",
    "filepath += '{0}_ng12p5yr_v3_nodmx_ePSR.pkl'.format(psrname)\n",
    "with open(filepath,'rb') as fin:\n",
    "    psr=pickle.load(fin)"
   ]
  },
  {
   "cell_type": "markdown",
   "metadata": {},
   "source": [
    "# Testing models with GP DM variations\n",
    "\n",
    "__Very Import:__ What follows is an __example__ of noise model selection. For *most* pulsars the choice of noise models used in any given model selection analysis will be different than the ones chosen here. Those working on pulsars highlighted in the 11-year noise model analysis should include those models in their analyses and also use the best combination of models from that work in any final model selection that is done."
   ]
  },
  {
   "cell_type": "markdown",
   "metadata": {},
   "source": [
    "## Setup GP model selection"
   ]
  },
  {
   "cell_type": "markdown",
   "metadata": {},
   "source": [
    "Choices for `psd`s (i.e. `diag` kernels):\n",
    "\t* `powerlaw`\n",
    "\t* `spectrum`\n",
    "\t* `tprocess`\n",
    "\t* `tprocess_adapt`\n",
    "\t\n",
    "Choices for `nondiag` kernels:\n",
    "\t* `sq_exp`\n",
    "\t* `periodic`\n",
    "\t* `sq_exp_rfband`\n",
    "\t* `periodic_rfband`\n",
    "\t\n",
    "Running a chromatic gp:\n",
    "\t* set `chrom_gp=True` or in the `kwarg` dictionary {`chrom_gp`:True}\n",
    "\t* set which general type of kernel you'll use `chrom_gp_kernel`= `['diag','nondiag']`\n",
    "\t* set the specific kernel, either `chrom_kernel='sq_exp'` or `chrom_psd='turnover'`, for instance\n",
    "\t* set the index, 1/f^idx, Default is 4, `chrom_idx=4.4`\n",
    "\n",
    "```\n",
    "dipcusp_kwargs = {'dm_expdip':True,\n",
    "                  'dmexp_sign': 'negative',\n",
    "                  'num_dmdips':2,\n",
    "                  'dm_cusp_idx':[2,4],\n",
    "                  'dm_expdip_tmin':[54700,57450],\n",
    "                  'dm_expdip_tmax':[54850,57560],\n",
    "                  'dmdip_seqname':'ism',\n",
    "                  'dm_cusp':False,\n",
    "                  'dm_cusp_sign':'negative',\n",
    "                  'dm_cusp_idx':[2,4],\n",
    "                  'dm_cusp_sym':False,\n",
    "                  'dm_cusp_tmin':None,\n",
    "                  'dm_cusp_tmax':None,\n",
    "                  'num_dm_cusps':2, \n",
    "                  'dm_dual_cusp':True,\n",
    "                  'dm_dual_cusp_tmin':[54700,57450],\n",
    "                  'dm_dual_cusp_tmax':[54850,57560],}\n",
    "```"
   ]
  },
  {
   "cell_type": "code",
   "execution_count": 6,
   "metadata": {
    "ExecuteTime": {
     "end_time": "2018-05-16T17:43:56.600849Z",
     "start_time": "2018-05-16T17:43:56.572218Z"
    }
   },
   "outputs": [],
   "source": [
    "red_psd = 'powerlaw'\n",
    "dm_nondiag_kernel = ['periodic_rfband','sq_exp_rfband']#,'sq_exp', 'periodic']\n",
    "dm_sw_gp = False\n",
    "dm_annual = False\n",
    "chrom_gp = True\n",
    "chrom_gp_kernel = 'nondiag'\n",
    "chrom_kernels= ['periodic','sq_exp']\n",
    "white_vary = True"
   ]
  },
  {
   "cell_type": "markdown",
   "metadata": {},
   "source": [
    "Use the inspect package to pull the arguments from `model_singlepsr_noise` and make a template for the keyword arguments (kwargs) dictionary we will be using to keep track of these various models. "
   ]
  },
  {
   "cell_type": "code",
   "execution_count": 7,
   "metadata": {},
   "outputs": [
    {
     "data": {
      "text/plain": [
       "{'tm_var': False,\n",
       " 'tm_linear': False,\n",
       " 'tmparam_list': None,\n",
       " 'red_var': True,\n",
       " 'psd': 'powerlaw',\n",
       " 'red_select': None,\n",
       " 'noisedict': None,\n",
       " 'tm_svd': False,\n",
       " 'tm_norm': True,\n",
       " 'white_vary': True,\n",
       " 'components': 30,\n",
       " 'upper_limit': False,\n",
       " 'wideband': False,\n",
       " 'gamma_val': None,\n",
       " 'dm_var': False,\n",
       " 'dm_type': 'gp',\n",
       " 'dmgp_kernel': 'diag',\n",
       " 'dm_psd': 'powerlaw',\n",
       " 'dm_nondiag_kernel': 'periodic',\n",
       " 'dm_dt': 15,\n",
       " 'dmx_data': None,\n",
       " 'dm_annual': False,\n",
       " 'gamma_dm_val': None,\n",
       " 'chrom_gp': False,\n",
       " 'chrom_gp_kernel': 'nondiag',\n",
       " 'chrom_psd': 'powerlaw',\n",
       " 'chrom_idx': 4,\n",
       " 'chrom_kernel': 'periodic',\n",
       " 'chrom_dt': 15,\n",
       " 'dm_expdip': False,\n",
       " 'dmexp_sign': 'negative',\n",
       " 'dm_expdip_idx': 2,\n",
       " 'dm_expdip_tmin': None,\n",
       " 'dm_expdip_tmax': None,\n",
       " 'num_dmdips': 1,\n",
       " 'dmdip_seqname': None,\n",
       " 'dm_cusp': False,\n",
       " 'dm_cusp_sign': 'negative',\n",
       " 'dm_cusp_idx': 2,\n",
       " 'dm_cusp_sym': False,\n",
       " 'dm_cusp_tmin': None,\n",
       " 'dm_cusp_tmax': None,\n",
       " 'num_dm_cusps': 1,\n",
       " 'dm_cusp_seqname': None,\n",
       " 'dm_dual_cusp': False,\n",
       " 'dm_dual_cusp_tmin': None,\n",
       " 'dm_dual_cusp_tmax': None,\n",
       " 'dm_dual_cusp_sym': False,\n",
       " 'dm_dual_cusp_idx1': 2,\n",
       " 'dm_dual_cusp_idx2': 4,\n",
       " 'dm_dual_cusp_sign': 'negative',\n",
       " 'num_dm_dual_cusps': 1,\n",
       " 'dm_dual_cusp_seqname': None,\n",
       " 'dm_sw_deter': False,\n",
       " 'dm_sw_gp': False,\n",
       " 'swgp_prior': None,\n",
       " 'swgp_basis': None,\n",
       " 'coefficients': False,\n",
       " 'extra_sigs': None}"
      ]
     },
     "execution_count": 7,
     "metadata": {},
     "output_type": "execute_result"
    }
   ],
   "source": [
    "args = inspect.getfullargspec(model_singlepsr_noise)\n",
    "keys = args[0][1:]\n",
    "vals = args[3]\n",
    "model_template = dict(zip(keys,vals))\n",
    "model_template"
   ]
  },
  {
   "cell_type": "markdown",
   "metadata": {},
   "source": [
    "Here we show one work flow where we set up a `for` loop to go through the various models. Make sure to save the `model_labels` and `model_kwargs`. The former will be useful for making noise flower plots, while the latter will be the final product for a pulsar in this analysis."
   ]
  },
  {
   "cell_type": "code",
   "execution_count": null,
   "metadata": {
    "ExecuteTime": {
     "end_time": "2018-05-16T17:44:51.155779Z",
     "start_time": "2018-05-16T17:43:59.412696Z"
    }
   },
   "outputs": [],
   "source": [
    "# Create list of pta models for our model selection\n",
    "nmodels = len(chrom_kernels) * len(dm_nondiag_kernel)\n",
    "mod_index = np.arange(nmodels)\n",
    "\n",
    "ptas = dict.fromkeys(mod_index)\n",
    "model_dict = {}\n",
    "model_labels = []\n",
    "ct = 0\n",
    "for dm in dm_nondiag_kernel:\n",
    "    for chrom_kernel in chrom_kernels:\n",
    "        if dm == 'None':\n",
    "            dm_var = False\n",
    "        else:\n",
    "            dm_var = True\n",
    "        # Copy template kwargs dict and replace values we are changing. \n",
    "        kwargs = copy.deepcopy(model_template)\n",
    "\n",
    "        kwargs.update({'dm_var':dm_var,\n",
    "                       'dmgp_kernel':'nondiag',\n",
    "                       'psd':red_psd,\n",
    "                       'white_vary':white_vary,\n",
    "                       'dm_nondiag_kernel':dm,\n",
    "                       'dm_sw_deter':True,\n",
    "                       'dm_sw_gp':dm_sw_gp,\n",
    "                       'dm_annual': dm_annual,\n",
    "                       'swgp_basis': 'powerlaw',\n",
    "                       'chrom_gp_kernel':chrom_gp_kernel,\n",
    "                       'chrom_kernel':chrom_kernel,\n",
    "                       'chrom_gp':chrom_gp})\n",
    "\n",
    "        # Instantiate single pulsar noise model\n",
    "        ptas[ct] = model_singlepsr_noise(psr, **kwargs)\n",
    "\n",
    "        # Add labels and kwargs to save for posterity and plotting.\n",
    "        model_labels.append([string.ascii_uppercase[ct],dm, chrom_kernel])\n",
    "        model_dict.update({str(ct):kwargs})\n",
    "        ct += 1"
   ]
  },
  {
   "cell_type": "code",
   "execution_count": null,
   "metadata": {
    "ExecuteTime": {
     "end_time": "2018-05-16T17:45:01.931206Z",
     "start_time": "2018-05-16T17:45:01.899033Z"
    }
   },
   "outputs": [],
   "source": [
    "# Instantiate a collection of models\n",
    "super_model = HyperModel(ptas)"
   ]
  },
  {
   "cell_type": "code",
   "execution_count": null,
   "metadata": {
    "ExecuteTime": {
     "end_time": "2018-05-16T17:45:02.370404Z",
     "start_time": "2018-05-16T17:45:02.336038Z"
    }
   },
   "outputs": [],
   "source": [
    "super_model.params"
   ]
  },
  {
   "cell_type": "code",
   "execution_count": null,
   "metadata": {},
   "outputs": [],
   "source": [
    "model_labels"
   ]
  },
  {
   "cell_type": "markdown",
   "metadata": {},
   "source": [
    "## Set the out directory for you chains and other sampler setup\n",
    "### !!! Important !!! Please set the chain directory outside of the git repository (easier) or at least do not try and commit your chains to the repo. "
   ]
  },
  {
   "cell_type": "code",
   "execution_count": null,
   "metadata": {
    "ExecuteTime": {
     "end_time": "2018-05-16T17:45:29.836670Z",
     "start_time": "2018-05-16T17:45:29.789241Z"
    }
   },
   "outputs": [],
   "source": [
    "round_number = '5_powerlaw_chrom_gp_periodic_vs_sq_exp_and_periodic_rfband_vs_sq_exp_rfband'\n",
    "outdir = './chains/{}/round_{}'.format(psr.name,round_number)\n",
    "print('Will Save to: ',outdir)\n",
    "emp_distr_path = './wn_emp_dists/{0}_ng12p5yr_v3_std_plaw_emp_dist.pkl'.format(psr.name)\n",
    "sampler = super_model.setup_sampler(resume=True, outdir=outdir,\n",
    "                                    empirical_distr=emp_distr_path)"
   ]
  },
  {
   "cell_type": "code",
   "execution_count": null,
   "metadata": {},
   "outputs": [],
   "source": [
    "model_params = {}\n",
    "for ky, pta in ptas.items():\n",
    "    model_params.update({str(ky) : pta.param_names})"
   ]
  },
  {
   "cell_type": "code",
   "execution_count": null,
   "metadata": {},
   "outputs": [],
   "source": [
    "with open(outdir+'/model_params.json' , 'w') as fout:\n",
    "    json.dump(model_params, fout, sort_keys=True,\n",
    "              indent=4, separators=(',', ': '))\n",
    "    \n",
    "with open(outdir+'/model_kwargs.json' , 'w') as fout:\n",
    "    json.dump(model_dict, fout, sort_keys=True,\n",
    "              indent=4, separators=(',', ': '))\n",
    "    \n",
    "with open(outdir+'/model_labels.json' , 'w') as fout:\n",
    "    json.dump(model_labels, fout, sort_keys=True,\n",
    "              indent=4, separators=(',', ': '))"
   ]
  },
  {
   "cell_type": "code",
   "execution_count": null,
   "metadata": {
    "ExecuteTime": {
     "end_time": "2018-05-16T17:45:31.805754Z",
     "start_time": "2018-05-16T17:45:31.774319Z"
    }
   },
   "outputs": [],
   "source": [
    "# sampler for N steps\n",
    "N = int(5e6)\n",
    "x0 = super_model.initial_sample()"
   ]
  },
  {
   "cell_type": "code",
   "execution_count": null,
   "metadata": {
    "ExecuteTime": {
     "end_time": "2018-05-16T18:15:35.402822Z",
     "start_time": "2018-05-16T17:45:31.938466Z"
    }
   },
   "outputs": [],
   "source": [
    "sampler.sample(x0, N, SCAMweight=30, AMweight=15, DEweight=50, burn=100000)"
   ]
  },
  {
   "cell_type": "markdown",
   "metadata": {},
   "source": [
    "## Example with chromatic models. "
   ]
  },
  {
   "cell_type": "markdown",
   "metadata": {},
   "source": [
    "The analysis above seems to indicate that `J1600-3053` wants an annual-DM term whenever a Fourier basis representation of the DM variations is used. We use that informatio in the following. We also fix the red-noise PSD to be a `power-law`."
   ]
  },
  {
   "cell_type": "code",
   "execution_count": null,
   "metadata": {},
   "outputs": [],
   "source": [
    "psrname = 'B1855+09'#'J1600-3053'\n",
    "filepath = './no_dmx_pickles/'\n",
    "filepath += '{0}_ng12p5yr_v3_nodmx_ePSR.pkl'.format(psrname)\n",
    "with open(filepath,'rb') as fin:\n",
    "    psr=pickle.load(fin)"
   ]
  },
  {
   "cell_type": "code",
   "execution_count": null,
   "metadata": {
    "ExecuteTime": {
     "end_time": "2018-05-16T20:59:52.925788Z",
     "start_time": "2018-05-16T20:59:26.185526Z"
    }
   },
   "outputs": [],
   "source": [
    "# Create list of pta models for our model selection\n",
    "ptas = {}\n",
    "model_labels = []\n",
    "model_dict = {}\n",
    "\n",
    "kwargs = copy.deepcopy(model_template)            \n",
    "kwargs.update({'dm_var':True,\n",
    "               'dmgp_kernel':'nondiag',\n",
    "               'white_vary':True,\n",
    "               'dm_nondiag_kernel':'sq_exp_rfband',\n",
    "               'dm_sw_deter':True,\n",
    "               })\n",
    "            \n",
    "# Instantiate single pulsar noise model\n",
    "ptas[0] = model_singlepsr_noise(psr, **kwargs)\n",
    "\n",
    "# Add labels and kwargs to save for posterity and plotting.\n",
    "# Model, DM Kernel, Chromatic, Chrom Idx\n",
    "model_labels.append(['A','sq_exp_rfband', False, None])\n",
    "model_dict.update({str(0):kwargs})\n",
    "\n",
    "kwargs = copy.deepcopy(model_template)            \n",
    "kwargs.update({'dm_var':True,\n",
    "               'dmgp_kernel':'nondiag',\n",
    "               'white_vary':True,\n",
    "               'dm_nondiag_kernel':'periodic_rfband',\n",
    "               'dm_sw_deter':True,\n",
    "               })\n",
    "            \n",
    "# Instantiate single pulsar noise model\n",
    "ptas[1] = model_singlepsr_noise(psr, **kwargs)\n",
    "\n",
    "# Add labels and kwargs to save for posterity and plotting.\n",
    "# Model, DM Kernel, Chromatic, Chrom Idx\n",
    "model_labels.append(['B','periodic_rfband', False, None])\n",
    "model_dict.update({str(1):kwargs})\n",
    "\n",
    "kwargs = copy.deepcopy(model_template)            \n",
    "kwargs.update({'dm_var':True,\n",
    "               'dmgp_kernel':'nondiag',\n",
    "               'white_vary':True,\n",
    "               'dm_nondiag_kernel':'sq_exp_rfband',\n",
    "               'chrom_gp':True,\n",
    "               'chrom_gp_kernel':'nondiag',\n",
    "               'chrom_kernel':'sq_exp',\n",
    "               'dm_sw_deter':True,\n",
    "               })\n",
    "# Instantiate single pulsar noise model\n",
    "ptas[2] = model_singlepsr_noise(psr, **kwargs)\n",
    "\n",
    "# Add labels and kwargs to save for posterity and plotting.\n",
    "# Model, DM Kernel, Chromatic, Chrom Idx\n",
    "model_labels.append(['C','sq_exp_rfband', True, 'sq_exp'])\n",
    "model_dict.update({str(2):kwargs})\n",
    "\n",
    "\n",
    "kwargs = copy.deepcopy(model_template)            \n",
    "kwargs.update({'dm_var':True,\n",
    "               'dmgp_kernel':'nondiag',\n",
    "               'white_vary':True,\n",
    "               'dm_nondiag_kernel':'sq_exp_rfband',\n",
    "               'chrom_gp':True,\n",
    "               'chrom_gp_kernel':'nondiag',\n",
    "               'chrom_kernel':'sq_exp',\n",
    "               'dm_sw_deter':True,\n",
    "               })\n",
    "\n",
    "# Instantiate single pulsar noise model\n",
    "ptas[3] = model_singlepsr_noise(psr, **kwargs)\n",
    "\n",
    "# Add labels and kwargs to save for posterity and plotting.\n",
    "# Model, DM Kernel, Chromatic, Chrom Idx\n",
    "model_labels.append(['D','sq_exp_rfband', True, 'periodic'])\n",
    "model_dict.update({str(3):kwargs})"
   ]
  },
  {
   "cell_type": "code",
   "execution_count": null,
   "metadata": {
    "ExecuteTime": {
     "end_time": "2018-05-16T21:02:02.034726Z",
     "start_time": "2018-05-16T21:02:02.006946Z"
    }
   },
   "outputs": [],
   "source": [
    "# Instanciate a collection of models\n",
    "super_model = HyperModel(ptas)"
   ]
  },
  {
   "cell_type": "code",
   "execution_count": null,
   "metadata": {
    "ExecuteTime": {
     "end_time": "2018-05-16T21:02:35.979921Z",
     "start_time": "2018-05-16T21:02:35.951261Z"
    }
   },
   "outputs": [],
   "source": [
    "outdir = './chains/{}/chrom_dmgp/'.format(psr.name)\n",
    "emp_distr_path = './wn_emp_dists/{0}_ng12p5yr_v3_std_plaw_emp_dist.pkl'.format(psr.name)\n",
    "sampler = super_model.setup_sampler(resume=True, outdir=outdir,\n",
    "                                    empirical_distr=emp_distr_path)"
   ]
  },
  {
   "cell_type": "code",
   "execution_count": null,
   "metadata": {},
   "outputs": [],
   "source": [
    "model_params = {}\n",
    "for ky, pta in ptas.items():\n",
    "    model_params.update({str(ky) : pta.param_names})"
   ]
  },
  {
   "cell_type": "code",
   "execution_count": null,
   "metadata": {},
   "outputs": [],
   "source": [
    "with open(outdir+'/model_params.json' , 'w') as fout:\n",
    "    json.dump(model_params, fout, sort_keys=True,\n",
    "              indent=4, separators=(',', ': '))\n",
    "    \n",
    "with open(outdir+'/model_kwargs.json' , 'w') as fout:\n",
    "    json.dump(model_dict, fout, sort_keys=True,\n",
    "              indent=4, separators=(',', ': '))\n",
    "    \n",
    "with open(outdir+'/model_labels.json' , 'w') as fout:\n",
    "    json.dump(model_labels, fout, sort_keys=True,\n",
    "              indent=4, separators=(',', ': '))"
   ]
  },
  {
   "cell_type": "code",
   "execution_count": null,
   "metadata": {
    "ExecuteTime": {
     "end_time": "2018-05-16T21:02:36.575939Z",
     "start_time": "2018-05-16T21:02:36.546253Z"
    }
   },
   "outputs": [],
   "source": [
    "# sampler for N steps\n",
    "N = int(5e6)\n",
    "x0 = super_model.initial_sample()"
   ]
  },
  {
   "cell_type": "code",
   "execution_count": null,
   "metadata": {
    "ExecuteTime": {
     "end_time": "2018-05-16T22:08:15.060176Z",
     "start_time": "2018-05-16T21:02:37.034858Z"
    }
   },
   "outputs": [],
   "source": [
    "sampler.sample(x0, N, SCAMweight=30, AMweight=15, DEweight=50, burn=200000)"
   ]
  }
 ],
 "metadata": {
  "extensions": {
   "jupyter_dashboards": {
    "activeView": "report_default",
    "version": 1,
    "views": {
     "grid_default": {
      "cellMargin": 10,
      "defaultCellHeight": 20,
      "maxColumns": 12,
      "name": "grid",
      "type": "grid"
     },
     "report_default": {
      "name": "report",
      "type": "report"
     }
    }
   }
  },
  "kernelspec": {
   "display_name": "Python 3",
   "language": "python",
   "name": "python3"
  },
  "language_info": {
   "codemirror_mode": {
    "name": "ipython",
    "version": 3
   },
   "file_extension": ".py",
   "mimetype": "text/x-python",
   "name": "python",
   "nbconvert_exporter": "python",
   "pygments_lexer": "ipython3",
   "version": "3.8.3"
  },
  "toc": {
   "nav_menu": {},
   "number_sections": true,
   "sideBar": true,
   "skip_h1_title": false,
   "toc_cell": false,
   "toc_position": {
    "height": "743px",
    "left": "0px",
    "right": "1228px",
    "top": "107px",
    "width": "212px"
   },
   "toc_section_display": "block",
   "toc_window_display": true
  }
 },
 "nbformat": 4,
 "nbformat_minor": 2
}
